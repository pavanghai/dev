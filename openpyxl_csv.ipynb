{
  "nbformat": 4,
  "nbformat_minor": 0,
  "metadata": {
    "colab": {
      "provenance": [],
      "authorship_tag": "ABX9TyMK87esVLWnENQkjmlsYPMD",
      "include_colab_link": true
    },
    "kernelspec": {
      "name": "python3",
      "display_name": "Python 3"
    },
    "language_info": {
      "name": "python"
    }
  },
  "cells": [
    {
      "cell_type": "markdown",
      "metadata": {
        "id": "view-in-github",
        "colab_type": "text"
      },
      "source": [
        "<a href=\"https://colab.research.google.com/github/pavanghai/dev/blob/master/openpyxl_csv.ipynb\" target=\"_parent\"><img src=\"https://colab.research.google.com/assets/colab-badge.svg\" alt=\"Open In Colab\"/></a>"
      ]
    },
    {
      "cell_type": "code",
      "source": [
        "!gdown -q --output /content/data/ --id 1gQIEycH4igeEmXuZ-q64QrwKm5m2NHD6"
      ],
      "metadata": {
        "colab": {
          "base_uri": "https://localhost:8080/"
        },
        "id": "eBPLBumdRfyX",
        "outputId": "79d29b8f-dd60-4afe-8d95-17ea5417439e"
      },
      "execution_count": 1,
      "outputs": [
        {
          "output_type": "stream",
          "name": "stdout",
          "text": [
            "/usr/local/lib/python3.10/dist-packages/gdown/__main__.py:140: FutureWarning: Option `--id` was deprecated in version 4.3.1 and will be removed in 5.0. You don't need to pass it anymore to use a file ID.\n",
            "  warnings.warn(\n"
          ]
        }
      ]
    },
    {
      "cell_type": "code",
      "source": [
        "import csv\n",
        "from openpyxl import load_workbook\n",
        "\n",
        "excel_file = '/content/data/EmpData50.xlsx'\n",
        "ING_csv_file = '/content/data/NameIDGen.csv' # All sheets SHEET_NAME, ID, NAME, GENDER\n",
        "USE_csv_file = '/content/data/USEmp.csv'     # US sheet SHEET_NAME, NAME, DEPARTMENT, GENDER\n",
        "USC_csv_file = '/content/data/ChEmp.csv'     # CHINA sheet SHEET_NAME, NAME, DEPARTMENT, GENDER\n",
        "EMP_csv_file = '/content/data/AllEmp.csv'    # All sheets SHEET_NAME, ID, NAME, AGE, AGE+10, GENDER, DEPARTMENT, BUSINESS UNIT, HIRE DATE\n",
        "\n",
        "# Gender normalization function\n",
        "def normalize_gender(value):\n",
        "    male_values = ('m', 'ma', 'mal','male')\n",
        "    female_values = ('f', 'fe', 'fem', 'fema', 'femal', 'female')\n",
        "    if value.lower() in male_values:\n",
        "        return 'male'\n",
        "    elif value.lower() in female_values:\n",
        "        return 'female'\n",
        "    return value  # Return as-is if not matched\n",
        "\n",
        "# Open the workbook\n",
        "wb = load_workbook(filename=excel_file,read_only=True,)\n",
        "data = []\n",
        "seen_ids = set()\n",
        "\n",
        "# Iterate through all sheets\n",
        "for sheet_name in wb.sheetnames:\n",
        "    sheet = wb[sheet_name]\n",
        "\n",
        "    # Extract rows\n",
        "    for row in sheet.iter_rows(min_row=4, values_only=True):\n",
        "        # Extract required columns: EEID (A), Full Name (B), Gender (F)\n",
        "        row_data = [sheet.title, row[0], row[1], row[5]]  # Columns A, B, F are at index 0, 1, 5 respectively\n",
        "\n",
        "        # Normalize the Gender column\n",
        "        row_data[3] = normalize_gender(row_data[2])\n",
        "\n",
        "        # Skip duplicate IDs\n",
        "        if row_data[1] in seen_ids:\n",
        "            continue\n",
        "        seen_ids.add(row_data[1])  # Add ID to the set\n",
        "\n",
        "        # Add to data list\n",
        "        data.append(row_data)\n",
        "\n",
        "# Write to a CSV file\n",
        "with open(ING_csv_file, mode='w', newline='', encoding='utf-8') as file:\n",
        "    writer = csv.writer(file)\n",
        "\n",
        "    # Write headers\n",
        "    writer.writerow(['sheet','ID', 'Name', 'Gen'])\n",
        "\n",
        "    # Write data rows\n",
        "    writer.writerows(data)\n",
        "\n",
        "print(f\"CSV file '{ING_csv_file}' created successfully.\")"
      ],
      "metadata": {
        "colab": {
          "base_uri": "https://localhost:8080/"
        },
        "id": "VnF6GkZ4j13o",
        "outputId": "961a33e8-da0d-4272-8add-72af4bbb8523"
      },
      "execution_count": 2,
      "outputs": [
        {
          "output_type": "stream",
          "name": "stdout",
          "text": [
            "CSV file '/content/data/NameIDGen.csv' created successfully.\n"
          ]
        }
      ]
    },
    {
      "cell_type": "code",
      "source": [
        "male_values = ('m', 'ma', 'mal','male')\n",
        "female_values = ('f', 'fe', 'fem', 'fema', 'femal', 'female')\n",
        "for i in male_values + female_values:\n",
        "  print(f\"{i: >6} to {normalize_gender(i)}\")"
      ],
      "metadata": {
        "colab": {
          "base_uri": "https://localhost:8080/"
        },
        "id": "1S-eXDT7k_SP",
        "outputId": "487a1046-d23f-4a32-aafc-f6ae285105ec"
      },
      "execution_count": 3,
      "outputs": [
        {
          "output_type": "stream",
          "name": "stdout",
          "text": [
            "     m to male\n",
            "    ma to male\n",
            "   mal to male\n",
            "  male to male\n",
            "     f to female\n",
            "    fe to female\n",
            "   fem to female\n",
            "  fema to female\n",
            " femal to female\n",
            "female to female\n"
          ]
        }
      ]
    },
    {
      "cell_type": "code",
      "source": [
        "import csv\n",
        "from openpyxl import load_workbook\n",
        "\n",
        "excel_file = '/content/data/EmpData50.xlsx'\n",
        "ING_csv_file = '/content/data/NameIDGen.csv' # All sheets SHEET_NAME, ID, NAME, GENDER\n",
        "USE_csv_file = '/content/data/USEmp.csv'     # US sheet SHEET_NAME, NAME, DEPARTMENT, GENDER\n",
        "USC_csv_file = '/content/data/ChEmp.csv'     # CHINA sheet SHEET_NAME, NAME, DEPARTMENT, GENDER\n",
        "EMP_csv_file = '/content/data/AllEmp.csv'    # All sheets SHEET_NAME, ID, NAME, AGE, AGE+10, GENDER, DEPARTMENT, BUSINESS UNIT, HIRE DATE\n",
        "\n",
        "# Gender normalization function\n",
        "def normalize_gender(value):\n",
        "    male_values = ('m', 'ma', 'mal','male')\n",
        "    female_values = ('f', 'fe', 'fem', 'fema', 'femal', 'female')\n",
        "    if value.lower() in male_values:\n",
        "        return 'male'\n",
        "    elif value.lower() in female_values:\n",
        "        return 'female'\n",
        "    return value  # Return as-is if not matched\n",
        "\n",
        "# Open the workbook\n",
        "wb = load_workbook(filename=excel_file,read_only=True,)\n",
        "data = []\n",
        "seen_ids = set()\n",
        "\n",
        "# Iterate through all sheets\n",
        "for sheet_name in wb.sheetnames:\n",
        "    sheet = wb[sheet_name]\n",
        "\n",
        "    # Extract rows\n",
        "    for row in sheet.iter_rows(min_row=4, values_only=True):\n",
        "        # Extract required columns: EEID (A), Full Name (B), Gender (F)\n",
        "        row_data = [sheet.title, row[0], row[1], row[5]]  # Columns A, B, F are at index 0, 1, 5 respectively\n",
        "\n",
        "        # Normalize the Gender column\n",
        "        row_data[3] = normalize_gender(row_data[2])\n",
        "\n",
        "        # Skip duplicate IDs\n",
        "        if row_data[1] in seen_ids:\n",
        "            continue\n",
        "        seen_ids.add(row_data[1])  # Add ID to the set\n",
        "\n",
        "        # Add to data list\n",
        "        data.append(row_data)\n",
        "\n",
        "# Write to a CSV file\n",
        "with open(ING_csv_file, mode='w', newline='', encoding='utf-8') as file:\n",
        "    writer = csv.writer(file)\n",
        "\n",
        "    # Write headers\n",
        "    writer.writerow(['sheet','ID', 'Name', 'Gen'])\n",
        "\n",
        "    # Write data rows\n",
        "    writer.writerows(data)\n",
        "\n",
        "print(f\"CSV file '{ING_csv_file}' created successfully.\")"
      ],
      "metadata": {
        "id": "ztqiX-VkvtgM"
      },
      "execution_count": null,
      "outputs": []
    }
  ]
}