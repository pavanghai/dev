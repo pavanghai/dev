{
  "nbformat": 4,
  "nbformat_minor": 0,
  "metadata": {
    "colab": {
      "provenance": [],
      "authorship_tag": "ABX9TyMDKVvk2XJpavUu/UDoXl8Q",
      "include_colab_link": true
    },
    "kernelspec": {
      "name": "python3",
      "display_name": "Python 3"
    },
    "language_info": {
      "name": "python"
    }
  },
  "cells": [
    {
      "cell_type": "markdown",
      "metadata": {
        "id": "view-in-github",
        "colab_type": "text"
      },
      "source": [
        "<a href=\"https://colab.research.google.com/github/pavanghai/dev/blob/master/openpyxl_csv1.ipynb\" target=\"_parent\"><img src=\"https://colab.research.google.com/assets/colab-badge.svg\" alt=\"Open In Colab\"/></a>"
      ]
    },
    {
      "cell_type": "code",
      "source": [
        "!gdown -q --output /content/data/ --id 1gQIEycH4igeEmXuZ-q64QrwKm5m2NHD6"
      ],
      "metadata": {
        "colab": {
          "base_uri": "https://localhost:8080/"
        },
        "id": "eBPLBumdRfyX",
        "outputId": "79d29b8f-dd60-4afe-8d95-17ea5417439e"
      },
      "execution_count": 1,
      "outputs": [
        {
          "output_type": "stream",
          "name": "stdout",
          "text": [
            "/usr/local/lib/python3.10/dist-packages/gdown/__main__.py:140: FutureWarning: Option `--id` was deprecated in version 4.3.1 and will be removed in 5.0. You don't need to pass it anymore to use a file ID.\n",
            "  warnings.warn(\n"
          ]
        }
      ]
    },
    {
      "cell_type": "code",
      "source": [
        "import csv\n",
        "from openpyxl import load_workbook\n",
        "\n",
        "excel_file = '/content/data/EmpData50.xlsx'\n",
        "ING_csv_file = '/content/data/NameIDGen.csv' # All sheets SHEET_NAME, ID, NAME, GENDER\n",
        "USE_csv_file = '/content/data/USEmp.csv'     # US sheet SHEET_NAME, NAME, DEPARTMENT, GENDER\n",
        "USC_csv_file = '/content/data/ChEmp.csv'     # CHINA sheet SHEET_NAME, NAME, DEPARTMENT, GENDER\n",
        "EMP_csv_file = '/content/data/AllEmp.csv'    # All sheets SHEET_NAME, ID, NAME, AGE, AGE+10, GENDER, DEPARTMENT, BUSINESS UNIT, HIRE DATE\n",
        "\n",
        "# Gender normalization function\n",
        "def normalize_gender(value):\n",
        "    male_values = ('m', 'ma', 'mal','male')\n",
        "    female_values = ('f', 'fe', 'fem', 'fema', 'femal', 'female')\n",
        "    if value.lower() in male_values:\n",
        "        return 'male'\n",
        "    elif value.lower() in female_values:\n",
        "        return 'female'\n",
        "    return value  # Return as-is if not matched\n",
        "\n",
        "# Open the workbook\n",
        "wb = load_workbook(filename=excel_file,read_only=True,)\n",
        "data = []\n",
        "seen_ids = set()\n",
        "\n",
        "# Iterate through all sheets\n",
        "for sheet_name in wb.sheetnames:\n",
        "    sheet = wb[sheet_name]\n",
        "\n",
        "    # Extract rows\n",
        "    for row in sheet.iter_rows(min_row=4, values_only=True):\n",
        "        # Extract required columns: EEID (A), Full Name (B), Gender (F)\n",
        "        row_data = [sheet.title, row[0], row[1], row[5]]  # Columns A, B, F are at index 0, 1, 5 respectively\n",
        "\n",
        "        # Normalize the Gender column\n",
        "        row_data[3] = normalize_gender(row_data[2])\n",
        "\n",
        "        # Skip duplicate IDs\n",
        "        if row_data[1] in seen_ids:\n",
        "            continue\n",
        "        seen_ids.add(row_data[1])  # Add ID to the set\n",
        "\n",
        "        # Add to data list\n",
        "        data.append(row_data)\n",
        "\n",
        "# Write to a CSV file\n",
        "with open(ING_csv_file, mode='w', newline='', encoding='utf-8') as file:\n",
        "    writer = csv.writer(file)\n",
        "\n",
        "    # Write headers\n",
        "    writer.writerow(['sheet','ID', 'Name', 'Gen'])\n",
        "\n",
        "    # Write data rows\n",
        "    writer.writerows(data)\n",
        "\n",
        "print(f\"CSV file '{ING_csv_file}' created successfully.\")"
      ],
      "metadata": {
        "colab": {
          "base_uri": "https://localhost:8080/"
        },
        "id": "VnF6GkZ4j13o",
        "outputId": "961a33e8-da0d-4272-8add-72af4bbb8523"
      },
      "execution_count": 2,
      "outputs": [
        {
          "output_type": "stream",
          "name": "stdout",
          "text": [
            "CSV file '/content/data/NameIDGen.csv' created successfully.\n"
          ]
        }
      ]
    },
    {
      "cell_type": "code",
      "source": [
        "male_values = ('m', 'ma', 'mal','male')\n",
        "female_values = ('f', 'fe', 'fem', 'fema', 'femal', 'female')\n",
        "for i in male_values + female_values:\n",
        "  print(f\"{i: >6} to {normalize_gender(i)}\")"
      ],
      "metadata": {
        "colab": {
          "base_uri": "https://localhost:8080/"
        },
        "id": "1S-eXDT7k_SP",
        "outputId": "487a1046-d23f-4a32-aafc-f6ae285105ec"
      },
      "execution_count": 3,
      "outputs": [
        {
          "output_type": "stream",
          "name": "stdout",
          "text": [
            "     m to male\n",
            "    ma to male\n",
            "   mal to male\n",
            "  male to male\n",
            "     f to female\n",
            "    fe to female\n",
            "   fem to female\n",
            "  fema to female\n",
            " femal to female\n",
            "female to female\n"
          ]
        }
      ]
    },
    {
      "cell_type": "code",
      "source": [
        "import csv\n",
        "from openpyxl import load_workbook\n",
        "\n",
        "excel_file = '/content/data/EmpData50.xlsx'\n",
        "ING_csv_file = '/content/data/NameIDGen.csv' # All sheets  SHEET_NAME, ID,   NAME,       GENDER\n",
        "USE_csv_file = '/content/data/USEmp.csv'     # US sheet    SHEET_NAME, NAME, DEPARTMENT, GENDER\n",
        "CHE_csv_file = '/content/data/ChEmp.csv'     # CHINA sheet SHEET_NAME, NAME, DEPARTMENT, GENDER, AGE+10, AGE\n",
        "EMP_csv_file = '/content/data/AllEmp.csv'    # All sheets  SHEET_NAME, ID,   NAME,       GENDER, AGE, AGE+10, DEPARTMENT, BUSINESS UNIT, HIRE DATE\n",
        "\n",
        "# Gender normalization function\n",
        "def normalize_gender(value):\n",
        "    male_values = ('m', 'ma', 'mal','male')\n",
        "    female_values = ('f', 'fe', 'fem', 'fema', 'femal', 'female')\n",
        "    if value.lower() in male_values:\n",
        "        return 'male'\n",
        "    elif value.lower() in female_values:\n",
        "        return 'female'\n",
        "    return value  # Return as-is if not matched\n",
        "\n",
        "# Open the workbook\n",
        "wb = load_workbook(filename=excel_file,read_only=True,)\n",
        "S_US = wb.worksheets[0]\n",
        "S_CH = wb.worksheets[1]\n",
        "print(S_CH.title,S_US.title)\n",
        "\n",
        "ING_data = []\n",
        "ING_seen_ids = set()\n",
        "USE_data = []\n",
        "USE_seen_ids = set()\n",
        "CHE_data = []\n",
        "CHE_seen_ids = set()\n",
        "EMP_data = []\n",
        "EMP_seen_ids = set()\n",
        "\n",
        "# Iterate through Sheet1 US and Extract rows\n",
        "for row in S_US.iter_rows(min_row=4, values_only=True):\n",
        "    # Extract required columns: EEID (A), Full Name (B), Gender (F)\n",
        "    row_data = [S_US.title, row[0], row[1], row[5]]  # Columns A, B, F are at index 0, 1, 5 respectively\n",
        "    E_row_data = [S_US.title, row[1], row[3], row[5]]  # Columns B,D, F are at index 1, 3, 5 respectively\n",
        "    Emp_row_data = [S_US.title, row[0], row[1], row[5], row[7],row[7]+10, row[3],row[4],row[8]]  # Columns A, B, F are at index 0, 1, 5 respectively\n",
        "\n",
        "    # Normalize the Gender column\n",
        "    row_data[3] = normalize_gender(row_data[2])\n",
        "    E_row_data[3] = normalize_gender(E_row_data[2])\n",
        "    Emp_row_data[3] = normalize_gender(Emp_row_data[2])\n",
        "\n",
        "    # Skip duplicate IDs\n",
        "    if row_data[1] in ING_seen_ids:\n",
        "        continue\n",
        "    ING_seen_ids.add(row_data[1])  # Add ID to the set\n",
        "\n",
        "    # Add to data list\n",
        "    ING_data.append(row_data)\n",
        "\n",
        "# Iterate through Sheet1 US and Extract rows\n",
        "for row in S_CH.iter_rows(min_row=4, values_only=True):\n",
        "    # Extract required columns: EEID (A), Full Name (B), Gender (F)\n",
        "    row_data = [S_CH.title, row[0], row[1], row[5]]                       # Columns A, B, F are at index 0, 1, 5 respectively\n",
        "    E_row_data = [S_CH.title, row[1], row[3], row[5], row[7]+10, row[7]]  # Columns B, D, F,H,H are at index 1, 3, 5, 7, 7 respectively\n",
        "\n",
        "\n",
        "    # Normalize the Gender column\n",
        "    row_data[3] = normalize_gender(row_data[2])\n",
        "\n",
        "    # Skip duplicate IDs\n",
        "    if row_data[1] in ING_seen_ids:\n",
        "        continue\n",
        "    ING_seen_ids.add(row_data[1])  # Add ID to the set\n",
        "\n",
        "    # Add to data list\n",
        "    ING_data.append(row_data)\n",
        "\n",
        "# Write to a CSV file\n",
        "with open(ING_csv_file, mode='w', newline='', encoding='utf-8') as file:\n",
        "    writer = csv.writer(file)\n",
        "\n",
        "    # Write headers\n",
        "    writer.writerow(['sheet','ID', 'Name', 'Gen'])\n",
        "\n",
        "    # Write data rows\n",
        "    writer.writerows(data)\n",
        "\n",
        "print(f\"CSV file '{ING_csv_file}' created successfully.\")"
      ],
      "metadata": {
        "colab": {
          "base_uri": "https://localhost:8080/"
        },
        "id": "ztqiX-VkvtgM",
        "outputId": "6e6e244c-ad33-45ec-eaac-838594ffd615"
      },
      "execution_count": 6,
      "outputs": [
        {
          "output_type": "stream",
          "name": "stdout",
          "text": [
            "China United States\n",
            "CSV file '/content/data/NameIDGen.csv' created successfully.\n"
          ]
        }
      ]
    },
    {
      "cell_type": "code",
      "source": [],
      "metadata": {
        "id": "dzDnUjJpz7SI"
      },
      "execution_count": null,
      "outputs": []
    }
  ]
}